{
 "cells": [
  {
   "cell_type": "markdown",
   "metadata": {},
   "source": [
    "## A fastai Callback class to plot GPU Utilization during training.\n",
    "\n",
    "It starts the `nvidia-smi stats` process and tails it's output. To make it as lightweight as possible it only updates the plot once it collects the configured amount of samples and doesn't start new Python threads, instead it uses [select](https://docs.python.org/3/library/select.html) to monitor for new samples.\n",
    "\n",
    "It monitors GPU with the index taken from the `Datasets.device` used by the `Learner`"
   ]
  },
  {
   "cell_type": "code",
   "execution_count": null,
   "metadata": {},
   "outputs": [],
   "source": [
    "import select\n",
    "import subprocess\n",
    "import matplotlib.pyplot as plt\n",
    "import numpy as np\n",
    "import torch\n",
    "import fastprogress\n",
    "from fastai.callback.all import *\n",
    "\n",
    "\n",
    "class GpuUtilization(Callback):\n",
    "    \n",
    "    def __init__(self, figsize=(10,4), draw_every=50):\n",
    "        self.figsize = figsize\n",
    "        self.draw_every = draw_every\n",
    "    \n",
    "    def before_fit(self):\n",
    "        if not fastprogress.core.in_notebook():\n",
    "            warn('GpuUtilization is meant to be run in a Jupyter notebook environment')\n",
    "            return\n",
    "        if self.learn.dls.device.type != 'cuda':\n",
    "            warn(f'GpuUtilization expected cuda device, got {self.learn.dls.device.type}')\n",
    "            return\n",
    "        self.samples = []\n",
    "        self.samples_drawn = 0\n",
    "        device_index = self.learn.dls.device.index if self.learn.dls.device.index is not None else torch.cuda.current_device()\n",
    "        command = ['nvidia-smi', 'stats', \n",
    "                   '-d', 'gpuUtil',\n",
    "                   '-i', str(device_index)]\n",
    "        try:\n",
    "            self.proc = subprocess.Popen(command, stdout=subprocess.PIPE)\n",
    "            self.poll = select.poll()\n",
    "            self.poll.register(self.proc.stdout, select.POLLIN)\n",
    "        except:\n",
    "            warn('GpuUtilization failed to start nvidia-smi')\n",
    "            self.proc = None\n",
    "            \n",
    "    def after_batch(self):\n",
    "        self.__read_samples()\n",
    "        if len(self.samples) - self.samples_drawn > self.draw_every:\n",
    "            self.update_graph()\n",
    "\n",
    "\n",
    "    def after_fit(self):\n",
    "        if hasattr(self, 'proc'): \n",
    "            self.poll.unregister(self.proc.stdout)\n",
    "            self.proc.terminate()\n",
    "        del self.graph_ax\n",
    "            \n",
    "    def after_train(self):\n",
    "        self.update_graph()\n",
    "        \n",
    "    def after_validate(self):\n",
    "        self.update_graph()\n",
    "           \n",
    "    def __read_samples(self):\n",
    "        while self.proc and self.poll.poll(1):\n",
    "            line = self.proc.stdout.readline().decode()\n",
    "            if not line: break\n",
    "            t, u = self.__parse_line(line)\n",
    "            if self.samples and t < self.samples[-1][0]: continue #drop out of order entries\n",
    "            self.samples.append((t,u))\n",
    "            \n",
    "    def __parse_line(self, s):\n",
    "        # s looks like: '0, gpuUtil , 1588862307216262, 50\\n'\n",
    "        parts = s.replace(',',' ').split()\n",
    "        return int(parts[2]), int(parts[3])\n",
    "    \n",
    "    def update_graph(self):\n",
    "        if not self.samples: return\n",
    "        if not hasattr(self, 'graph_ax'):\n",
    "            graph_fig, self.graph_ax = plt.subplots(1, figsize=self.figsize)\n",
    "            plt.close()\n",
    "            self.graph_out = display(self.graph_ax.figure, display_id=True)\n",
    "\n",
    "        self.graph_ax.clear()\n",
    "        t, u = tuple(zip(*self.samples))\n",
    "        t = np.array(t)\n",
    "        t = (t - t[0]) / 1000000 #seconds from the first measurement\n",
    "        self.graph_ax.plot(t, u)\n",
    "        self.graph_ax.set_xlabel('time (s)')\n",
    "        self.graph_ax.set_ylabel('Utilization %')\n",
    "        self.graph_ax.set_ylim(0,100)\n",
    "        self.graph_out.update(self.graph_ax.figure)\n",
    "        self.samples_drawn = len(self.samples)"
   ]
  },
  {
   "cell_type": "markdown",
   "metadata": {},
   "source": [
    "## Example 1\n",
    "\n",
    "Trains resnet18 on the MNIST dataset, `GpuUtilization` is passed as the `Learner` as a callback. The plot is updated either after collecting 50 samples (roughly 10 seconds) or at the end of an epoch."
   ]
  },
  {
   "cell_type": "code",
   "execution_count": null,
   "metadata": {
    "scrolled": true
   },
   "outputs": [],
   "source": [
    "from fastai.vision.all import *\n",
    "path = untar_data(URLs.MNIST_SAMPLE)\n",
    "\n",
    "dls = ImageDataLoaders.from_folder(path)\n",
    "\n",
    "learn = cnn_learner(dls, resnet18, metrics=accuracy, cbs=GpuUtilization)"
   ]
  },
  {
   "cell_type": "code",
   "execution_count": null,
   "metadata": {},
   "outputs": [],
   "source": [
    "learn.fit_one_cycle(4)"
   ]
  },
  {
   "cell_type": "markdown",
   "metadata": {},
   "source": [
    "## Example 2\n",
    "\n",
    "Passing `draw_ever` parameter to change how often the graph is redrawn. Note that it might affect the result as drawing takes time during which GPU is idle."
   ]
  },
  {
   "cell_type": "code",
   "execution_count": null,
   "metadata": {},
   "outputs": [],
   "source": [
    "learn = cnn_learner(dls, resnet18, metrics=accuracy, cbs=GpuUtilization(draw_every=10))\n",
    "learn.fit_one_cycle(2)"
   ]
  },
  {
   "cell_type": "markdown",
   "metadata": {},
   "source": [
    "## Example 3\n",
    "\n",
    "Passing `figsize` parameter to make the chart larger."
   ]
  },
  {
   "cell_type": "code",
   "execution_count": null,
   "metadata": {},
   "outputs": [],
   "source": [
    "learn = cnn_learner(dls, resnet18, metrics=accuracy, cbs=GpuUtilization(figsize=(20,10)))\n",
    "learn.fit_one_cycle(2)"
   ]
  },
  {
   "cell_type": "markdown",
   "metadata": {},
   "source": [
    "## Example 4\n",
    "\n",
    "You can use this and `ShowGraphCallback` at the same time, it uses a separate plot"
   ]
  },
  {
   "cell_type": "code",
   "execution_count": null,
   "metadata": {},
   "outputs": [],
   "source": [
    "learn = cnn_learner(dls, resnet18, metrics=accuracy, cbs=[GpuUtilization, ShowGraphCallback])\n",
    "learn.fit_one_cycle(2)"
   ]
  },
  {
   "cell_type": "code",
   "execution_count": null,
   "metadata": {},
   "outputs": [],
   "source": []
  }
 ],
 "metadata": {
  "kernelspec": {
   "display_name": "vlp",
   "language": "python",
   "name": "vlp"
  },
  "language_info": {
   "codemirror_mode": {
    "name": "ipython",
    "version": 3
   },
   "file_extension": ".py",
   "mimetype": "text/x-python",
   "name": "python",
   "nbconvert_exporter": "python",
   "pygments_lexer": "ipython3",
   "version": "3.6.9"
  }
 },
 "nbformat": 4,
 "nbformat_minor": 4
}
